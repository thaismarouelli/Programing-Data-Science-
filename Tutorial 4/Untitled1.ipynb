{
 "cells": [
  {
   "cell_type": "code",
   "execution_count": 12,
   "id": "39c74e23",
   "metadata": {},
   "outputs": [
    {
     "name": "stdout",
     "output_type": "stream",
     "text": [
      "111111\r\n",
      "222222\r\n",
      "333333\r\n",
      "444444\r\n",
      "555555\r\n"
     ]
    }
   ],
   "source": [
    "for r in range (1,6):\n",
    "    for i in range (6): # the number of times we will print \n",
    "        print(r,end=\"\")\n",
    "    print(\"\\r\")  "
   ]
  },
  {
   "cell_type": "code",
   "execution_count": 18,
   "id": "c84f0f9d",
   "metadata": {},
   "outputs": [
    {
     "name": "stdout",
     "output_type": "stream",
     "text": [
      "1\r\n",
      "22\r\n",
      "333\r\n",
      "4444\r\n",
      "55555\r\n"
     ]
    }
   ],
   "source": [
    "for r in range (1,6):\n",
    "    for i in range (r): # the number of times we will print \n",
    "        print(r,end=\"\")\n",
    "    print(\"\\r\")  "
   ]
  },
  {
   "cell_type": "code",
   "execution_count": 30,
   "id": "94c6c6e4",
   "metadata": {},
   "outputs": [
    {
     "name": "stdout",
     "output_type": "stream",
     "text": [
      "[44, 23, 25, 38, 25, 39, 32, 42, 41, 48]\n",
      "44\n",
      "38\n",
      "32\n",
      "42\n",
      "48\n"
     ]
    }
   ],
   "source": [
    "import random \n",
    "\n",
    "random_list = []\n",
    "\n",
    "\n",
    "for i in range(10):\n",
    "    number = random.randint(21,49)\n",
    "    random_list.append(number)\n",
    "    \n",
    "print(random_list)\n",
    "\n",
    "\n",
    "for j in random_list:\n",
    "    if j%2==0:\n",
    "        print(j)\n",
    "        \n"
   ]
  },
  {
   "cell_type": "code",
   "execution_count": 46,
   "id": "51688ea7",
   "metadata": {},
   "outputs": [
    {
     "name": "stdout",
     "output_type": "stream",
     "text": [
      "23\n",
      "29\n",
      "31\n",
      "37\n",
      "41\n",
      "43\n",
      "47\n"
     ]
    }
   ],
   "source": [
    "for n in range(20, 50):\n",
    "    flag = 0\n",
    "    for i in range(2,n):\n",
    "        if n%i==0:\n",
    "            flag = 1 #flag = 1 when the previous condition is true, if false, goes back to flag = 0 \n",
    "    if flag==0: \n",
    "        print(n)\n"
   ]
  },
  {
   "cell_type": "code",
   "execution_count": null,
   "id": "e05004a6",
   "metadata": {},
   "outputs": [],
   "source": []
  }
 ],
 "metadata": {
  "kernelspec": {
   "display_name": "Python 3 (ipykernel)",
   "language": "python",
   "name": "python3"
  },
  "language_info": {
   "codemirror_mode": {
    "name": "ipython",
    "version": 3
   },
   "file_extension": ".py",
   "mimetype": "text/x-python",
   "name": "python",
   "nbconvert_exporter": "python",
   "pygments_lexer": "ipython3",
   "version": "3.10.9"
  }
 },
 "nbformat": 4,
 "nbformat_minor": 5
}
