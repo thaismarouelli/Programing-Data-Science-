{
 "cells": [
  {
   "cell_type": "code",
   "execution_count": 2,
   "id": "28363c5f",
   "metadata": {},
   "outputs": [
    {
     "name": "stdout",
     "output_type": "stream",
     "text": [
      "Give me a number: 5\n",
      "5 is odd\n"
     ]
    }
   ],
   "source": [
    "# takes input and checks whether it is an odd number or an even number. \n",
    "\n",
    "b = int(input(\"Give me a number: \"))\n",
    "def check(a):\n",
    "    if a%2 == 0: \n",
    "        print(f\"{a} is even\")\n",
    "    else:\n",
    "        print(f\"{a} is odd\")\n",
    "check(b)"
   ]
  },
  {
   "cell_type": "code",
   "execution_count": 16,
   "id": "a28f3a60",
   "metadata": {},
   "outputs": [
    {
     "name": "stdout",
     "output_type": "stream",
     "text": [
      "* \r\n",
      "* * \r\n",
      "* * * \r\n",
      "* * * * \r\n",
      "* * * * * \r\n"
     ]
    }
   ],
   "source": [
    "def pattern(a): \n",
    "    for i in range(a):\n",
    "        for j in range(i+1):\n",
    "            print(\"*\", end=\" \")\n",
    "        print(\"\\r\")\n",
    "        \n",
    "number_row = 5\n",
    "pattern(number_row) \n",
    "    "
   ]
  },
  {
   "cell_type": "code",
   "execution_count": 18,
   "id": "6d2a4012",
   "metadata": {},
   "outputs": [
    {
     "name": "stdout",
     "output_type": "stream",
     "text": [
      "5\n",
      "10\n",
      "15\n",
      "20\n",
      "25\n",
      "30\n",
      "35\n",
      "40\n",
      "45\n"
     ]
    }
   ],
   "source": [
    "# takes a range (i.e., upper and lower) and returns all the values in that range that are multiple of 5. \n",
    "\n",
    "def mult_5(a, b):\n",
    "    for i in range(lower, upper +1):\n",
    "        if i%5 == 0: \n",
    "            print(i)\n",
    "            \n",
    "\n",
    "lower = 2\n",
    "upper = 48\n",
    "mult_5(lower, upper)       "
   ]
  },
  {
   "cell_type": "code",
   "execution_count": 20,
   "id": "16917a0b",
   "metadata": {},
   "outputs": [
    {
     "name": "stdout",
     "output_type": "stream",
     "text": [
      "THAIS\n"
     ]
    }
   ],
   "source": [
    "# function that takes a string and swaps the case i.e., covert it from lower to upper case and vice versa.  \n",
    "\n",
    "def swap_case(word):\n",
    "    newcase = word.swapcase()\n",
    "    print(newcase)\n",
    "    \n",
    "word = \"thais\"\n",
    "swap_case(word)"
   ]
  },
  {
   "cell_type": "code",
   "execution_count": 28,
   "id": "fca5805e",
   "metadata": {},
   "outputs": [
    {
     "name": "stdout",
     "output_type": "stream",
     "text": [
      "88\n"
     ]
    }
   ],
   "source": [
    "# takes a list an input and returns the maximum value from the given list.\n",
    "\n",
    "def max_value_list(a):\n",
    "    max_value = a[0] # hypothesis\n",
    "    for i in a: \n",
    "        if i > max_value:\n",
    "            max_value = i\n",
    "    print(max_value)\n",
    "\n",
    "list_a = [3, 5, 18, 6, 5, 3, 4, 12, 9, 14, 24, 20, 88]\n",
    "max_value_list(list_a)\n"
   ]
  },
  {
   "cell_type": "code",
   "execution_count": 23,
   "id": "984913a5",
   "metadata": {},
   "outputs": [
    {
     "name": "stdout",
     "output_type": "stream",
     "text": [
      "6\n"
     ]
    }
   ],
   "source": [
    "# function that takes a sentence as an input and returns the number of words in it.'\n",
    "\n",
    "def num_words(a): \n",
    "    count_words = len(a.split())\n",
    "    print(count_words)\n",
    "\n",
    "num_words(\"My name is Thais Lopes Marouelli.\")"
   ]
  },
  {
   "cell_type": "code",
   "execution_count": null,
   "id": "210117e0",
   "metadata": {},
   "outputs": [],
   "source": []
  }
 ],
 "metadata": {
  "kernelspec": {
   "display_name": "Python 3 (ipykernel)",
   "language": "python",
   "name": "python3"
  },
  "language_info": {
   "codemirror_mode": {
    "name": "ipython",
    "version": 3
   },
   "file_extension": ".py",
   "mimetype": "text/x-python",
   "name": "python",
   "nbconvert_exporter": "python",
   "pygments_lexer": "ipython3",
   "version": "3.10.9"
  }
 },
 "nbformat": 4,
 "nbformat_minor": 5
}
