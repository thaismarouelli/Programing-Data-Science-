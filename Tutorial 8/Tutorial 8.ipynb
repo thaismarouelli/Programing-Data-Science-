{
 "cells": [
  {
   "cell_type": "code",
   "execution_count": 1,
   "id": "149a28b7",
   "metadata": {},
   "outputs": [
    {
     "name": "stdout",
     "output_type": "stream",
     "text": [
      "I am Parent Animal\n",
      "\n"
     ]
    }
   ],
   "source": [
    "class Animal:\n",
    "    def display(self):\n",
    "        print(\"I am Parent Animal\\n\")\n",
    "        \n",
    "class Dog(Animal):\n",
    "    def d_display(self):\n",
    "        print(\"I am a Child Dog\\n\")\n",
    "        \n",
    "class Cat(Animal):\n",
    "    def c_display(self):\n",
    "        print(\"I am a Child Cat\\n\")  \n",
    "        \n",
    "        \n",
    "animal1 = Animal()\n",
    "animal1.display()"
   ]
  },
  {
   "cell_type": "code",
   "execution_count": 2,
   "id": "3bd98995",
   "metadata": {},
   "outputs": [
    {
     "name": "stdout",
     "output_type": "stream",
     "text": [
      "I am Parent Animal\n",
      "\n",
      "I am a Child Dog\n",
      "\n"
     ]
    }
   ],
   "source": [
    "dog1 = Dog()\n",
    "dog1.display()\n",
    "dog1.d_display()"
   ]
  },
  {
   "cell_type": "code",
   "execution_count": 3,
   "id": "9f784bc9",
   "metadata": {},
   "outputs": [
    {
     "name": "stdout",
     "output_type": "stream",
     "text": [
      "I am Parent Animal\n",
      "\n",
      "I am a Child Cat\n",
      "\n"
     ]
    }
   ],
   "source": [
    "cat1 = Cat()\n",
    "cat1.display()\n",
    "cat1.c_display()"
   ]
  },
  {
   "cell_type": "code",
   "execution_count": 6,
   "id": "2c5c24a8",
   "metadata": {},
   "outputs": [
    {
     "name": "stdout",
     "output_type": "stream",
     "text": [
      "My name is Alex\n",
      "My name is Marta\n",
      "My name is John\n",
      "I am studing Data Science\n"
     ]
    }
   ],
   "source": [
    "class Person:\n",
    "    def __init__ (self, name, age):\n",
    "        self.name = name\n",
    "        self.age = age \n",
    "    def introduction(self):\n",
    "        print(f\"My name is {self.name}\")\n",
    "\n",
    "class Staff(Person):\n",
    "    pass\n",
    "\n",
    "class Student(Person):\n",
    "    def study(self):\n",
    "        print(\"I am studing Data Science\")\n",
    "        \n",
    "person1 = Person(\"Alex\",25)\n",
    "person1.introduction()\n",
    "\n",
    "staff1 = Staff(\"Marta\", 32)\n",
    "staff1.introduction()\n",
    "\n",
    "student1 = Student(\"John\", 30)\n",
    "student1.introduction()\n",
    "student1.study()\n",
    "              "
   ]
  },
  {
   "cell_type": "code",
   "execution_count": 7,
   "id": "62c3c4d9",
   "metadata": {},
   "outputs": [
    {
     "name": "stdout",
     "output_type": "stream",
     "text": [
      "Printing from the superclass\n",
      "Printing from the child class\n"
     ]
    }
   ],
   "source": [
    "class Parent:\n",
    "    def fun(self):\n",
    "        print(\"Printing from the superclass\")\n",
    "        \n",
    "class Child(Parent):\n",
    "    def fun(self):\n",
    "        print(\"Printing from the child class\")\n",
    "        \n",
    "p1 = Parent()\n",
    "p1.fun()\n",
    "\n",
    "\n",
    "c1 = Child()\n",
    "c1.fun()"
   ]
  },
  {
   "cell_type": "code",
   "execution_count": 11,
   "id": "56702a84",
   "metadata": {},
   "outputs": [
    {
     "name": "stdout",
     "output_type": "stream",
     "text": [
      "My name is Alex and my age is 24\n",
      "My name is Pedro, my age is 27 and my hobby is Swimming\n"
     ]
    }
   ],
   "source": [
    "class parent: \n",
    "    def __init__ (self,name, age):\n",
    "        self.name = name \n",
    "        self.age = age\n",
    "    def display(self):\n",
    "        print(f\"My name is {self.name} and my age is {self.age}\")\n",
    "              \n",
    "class child(parent):\n",
    "    def __init__ (self, name, age, hobby):\n",
    "        self.name = name \n",
    "        self.age = age\n",
    "        self.hobby = hobby \n",
    "    def display(self):\n",
    "        print(f\"My name is {self.name}, my age is {self.age} and my hobby is {self.hobby}\")\n",
    "\n",
    "              \n",
    "p1=parent(\"Alex\", 24)\n",
    "p1.display()\n",
    "\n",
    "\n",
    "c1=child(\"Pedro\", 27, \"Swimming\")\n",
    "c1.display()"
   ]
  },
  {
   "cell_type": "code",
   "execution_count": 15,
   "id": "6e98aadc",
   "metadata": {},
   "outputs": [
    {
     "name": "stdout",
     "output_type": "stream",
     "text": [
      "My name is Alex and my age is 24\n",
      "My name is Pedro, my age is 27 and my hobby is Swimming\n"
     ]
    }
   ],
   "source": [
    "class parent: \n",
    "    def __init__ (self,name, age):\n",
    "        self.name = name \n",
    "        self.age = age\n",
    "    def display(self):\n",
    "        print(f\"My name is {self.name} and my age is {self.age}\")\n",
    "              \n",
    "class child(parent):\n",
    "    def __init__ (self, name, age, hobby):\n",
    "        super().__init__(name, age)\n",
    "        self.hobby = hobby \n",
    "    def display(self):\n",
    "        print(f\"My name is {self.name}, my age is {self.age} and my hobby is {self.hobby}\")\n",
    "\n",
    "              \n",
    "p1=parent(\"Alex\", 24)\n",
    "p1.display()\n",
    "\n",
    "\n",
    "c1=child(\"Pedro\", 27, \"Swimming\")\n",
    "c1.display()"
   ]
  },
  {
   "cell_type": "code",
   "execution_count": 18,
   "id": "0583c2fe",
   "metadata": {},
   "outputs": [
    {
     "name": "stdout",
     "output_type": "stream",
     "text": [
      "Marks for normal submission are: 5.0\n",
      "Marks for late submission are: 4.5\n"
     ]
    }
   ],
   "source": [
    "class Marking:\n",
    "    def __init__(self, obtainedmarks, fullmarks, weight):\n",
    "        self.obtainedmarks = obtainedmarks\n",
    "        self.fullmarks = fullmarks\n",
    "        self.weight = weight\n",
    "    def calculate_marks(self):\n",
    "        return self.obtainedmarks/self.fullmarks*self.weight\n",
    "\n",
    "class LateMarking(Marking):\n",
    "    def calculate_marks(self):\n",
    "        grade = super().calculate_marks()\n",
    "        return grade - (grade*0.1)\n",
    "\n",
    "m = Marking(40, 80, 10)\n",
    "print(f\"Marks for normal submission are: {m.calculate_marks()}\")\n",
    "\n",
    "lm = LateMarking(40, 80, 10)\n",
    "print(f\"Marks for late submission are: {lm.calculate_marks()}\")"
   ]
  },
  {
   "cell_type": "code",
   "execution_count": 22,
   "id": "9751a7dd",
   "metadata": {},
   "outputs": [
    {
     "name": "stdout",
     "output_type": "stream",
     "text": [
      "The area of the square is 16\n",
      "The area of the circle is 28.274333882308138\n"
     ]
    }
   ],
   "source": [
    "from abc import ABC, abstractmethod\n",
    "import math as m \n",
    "\n",
    "class Shape(ABC):\n",
    "    def __init__(self, lenght, width):\n",
    "        self.lenght = lenght\n",
    "        self.width = width\n",
    "    @abstractmethod \n",
    "    def area(self):\n",
    "        pass\n",
    "    \n",
    "class Square(Shape):\n",
    "    def area(self):\n",
    "        return self.lenght*self.width\n",
    "    \n",
    "class Circle(Shape):\n",
    "    def __init__(self, radius):\n",
    "        self.radius = radius \n",
    "    def area(self):\n",
    "        return m.pi*self.radius**2\n",
    "\n",
    "    \n",
    "s1 = Square(4,4)\n",
    "print(f\"The area of the square is {s1.area()}\")\n",
    "\n",
    "c1 = Circle(3)\n",
    "print(f\"The area of the circle is {c1.area()}\")"
   ]
  },
  {
   "cell_type": "code",
   "execution_count": 23,
   "id": "37c2e007",
   "metadata": {},
   "outputs": [
    {
     "name": "stdout",
     "output_type": "stream",
     "text": [
      "The area of the square is 16\n",
      "The area of the circle is 28.274333882308138\n"
     ]
    }
   ],
   "source": [
    "import math as m \n",
    "\n",
    "class Shape():\n",
    "    def __init__(self, lenght, width):\n",
    "        self.lenght = lenght\n",
    "        self.width = width\n",
    "       \n",
    "class Square(Shape):\n",
    "    def area(self):\n",
    "        return self.lenght*self.width\n",
    "    \n",
    "class Circle(Shape):\n",
    "    def __init__(self, radius):\n",
    "        self.radius = radius \n",
    "    def area(self):\n",
    "        return m.pi*self.radius**2\n",
    "\n",
    "    \n",
    "s1 = Square(4,4)\n",
    "print(f\"The area of the square is {s1.area()}\")\n",
    "\n",
    "c1 = Circle(3)\n",
    "print(f\"The area of the circle is {c1.area()}\")"
   ]
  },
  {
   "cell_type": "code",
   "execution_count": null,
   "id": "a6b0a109",
   "metadata": {},
   "outputs": [],
   "source": []
  }
 ],
 "metadata": {
  "kernelspec": {
   "display_name": "Python 3 (ipykernel)",
   "language": "python",
   "name": "python3"
  },
  "language_info": {
   "codemirror_mode": {
    "name": "ipython",
    "version": 3
   },
   "file_extension": ".py",
   "mimetype": "text/x-python",
   "name": "python",
   "nbconvert_exporter": "python",
   "pygments_lexer": "ipython3",
   "version": "3.10.9"
  }
 },
 "nbformat": 4,
 "nbformat_minor": 5
}
