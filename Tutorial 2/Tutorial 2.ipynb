{
 "cells": [
  {
   "cell_type": "code",
   "execution_count": 1,
   "id": "ae818b91",
   "metadata": {},
   "outputs": [
    {
     "name": "stdout",
     "output_type": "stream",
     "text": [
      "The value of a is 4\n",
      "The value of b is 6\n",
      "The value of c is 10\n",
      "The value of d is -2\n"
     ]
    }
   ],
   "source": [
    "a = 4\n",
    "b = 6\n",
    "c = a+b \n",
    "d = a-b \n",
    "\n",
    "print(\"The value of a is\", a)\n",
    "print(\"The value of b is\", b)\n",
    "print(\"The value of c is\", c)\n",
    "print(\"The value of d is\", d)"
   ]
  },
  {
   "cell_type": "code",
   "execution_count": 2,
   "id": "f92bcff9",
   "metadata": {},
   "outputs": [
    {
     "name": "stdout",
     "output_type": "stream",
     "text": [
      "2.5\n"
     ]
    }
   ],
   "source": [
    "x = 5/2\n",
    "print(x)"
   ]
  },
  {
   "cell_type": "code",
   "execution_count": 6,
   "id": "7cd4ae8d",
   "metadata": {},
   "outputs": [
    {
     "name": "stdout",
     "output_type": "stream",
     "text": [
      "2\n"
     ]
    }
   ],
   "source": [
    "#the difference of x and y is because in x is a float and y is a int \n",
    "y = (int)(5/2)\n",
    "print(y)"
   ]
  },
  {
   "cell_type": "code",
   "execution_count": 7,
   "id": "f335551d",
   "metadata": {},
   "outputs": [
    {
     "name": "stdout",
     "output_type": "stream",
     "text": [
      "9.5\n"
     ]
    }
   ],
   "source": [
    "v1 = 4\n",
    "v2 = 5.5\n",
    "v3 = v1+v2\n",
    "print(v3)"
   ]
  },
  {
   "cell_type": "code",
   "execution_count": 14,
   "id": "dcfdbf00",
   "metadata": {},
   "outputs": [
    {
     "ename": "IndentationError",
     "evalue": "unindent does not match any outer indentation level (<tokenize>, line 3)",
     "output_type": "error",
     "traceback": [
      "\u001b[1;36m  File \u001b[1;32m<tokenize>:3\u001b[1;36m\u001b[0m\n\u001b[1;33m    v3 = v1+v2\u001b[0m\n\u001b[1;37m    ^\u001b[0m\n\u001b[1;31mIndentationError\u001b[0m\u001b[1;31m:\u001b[0m unindent does not match any outer indentation level\n"
     ]
    }
   ],
   "source": [
    "#python language is sensitive to spaces and indexation \n",
    "v1 = 4\n",
    "        v2 = 5.5\n",
    "    v3 = v1+v2\n",
    "print(v3)"
   ]
  },
  {
   "cell_type": "code",
   "execution_count": 16,
   "id": "b87ace58",
   "metadata": {},
   "outputs": [
    {
     "name": "stdout",
     "output_type": "stream",
     "text": [
      "123\n"
     ]
    }
   ],
   "source": [
    "#the values of x, y and z and stings and not int \n",
    "X = '1'\n",
    "Y = '2'\n",
    "Z = '3'\n",
    "Ans = X + Y + Z\n",
    "print(Ans)"
   ]
  },
  {
   "cell_type": "code",
   "execution_count": 17,
   "id": "8da2b54c",
   "metadata": {},
   "outputs": [
    {
     "name": "stdout",
     "output_type": "stream",
     "text": [
      "33\n"
     ]
    }
   ],
   "source": [
    "Birth_Year = 1992\n",
    "Current_Year = 2025 \n",
    "Age = Current_Year-Birth_Year\n",
    "\n",
    "print(Age)\n"
   ]
  },
  {
   "cell_type": "code",
   "execution_count": 18,
   "id": "b8c7c5ae",
   "metadata": {},
   "outputs": [],
   "source": [
    "my_name = \"Thais Marouelli\"\n",
    "my_country = \"Brazil\"\n",
    "my_major = \"Industrial Eng\"\n"
   ]
  },
  {
   "cell_type": "code",
   "execution_count": 24,
   "id": "b30e12c7",
   "metadata": {},
   "outputs": [
    {
     "name": "stdout",
     "output_type": "stream",
     "text": [
      "Old: Thais Marouelli\n",
      "Old: Brazil\n",
      "Old: Industrial Eng\n",
      "New: THAIS MAROUELLI\n",
      "New: brazil\n",
      "New: iNDUSTRIAL eNG\n"
     ]
    }
   ],
   "source": [
    "print(\"Old:\", my_name)\n",
    "print(\"Old:\", my_country)\n",
    "print(\"Old:\", my_major)\n",
    "print(\"New:\", my_name.upper())\n",
    "print(\"New:\", my_country.lower())\n",
    "print(\"New:\", my_major.swapcase())\n",
    "\n"
   ]
  },
  {
   "cell_type": "code",
   "execution_count": 28,
   "id": "8658f9d2",
   "metadata": {},
   "outputs": [
    {
     "name": "stdout",
     "output_type": "stream",
     "text": [
      "The value of the variable P is 36\n",
      "The value of the variable Q is 27\n",
      "The value of the variable D is 126\n",
      "The value of the variable K is 36\n"
     ]
    }
   ],
   "source": [
    "P = 36\n",
    "Q = 27 \n",
    "D = 2*(P+Q)\n",
    "K = 4*(P-Q)\n",
    "\n",
    "print(\"The value of the variable P is\",P)\n",
    "print(\"The value of the variable Q is\",Q)\n",
    "print(\"The value of the variable D is\",D)\n",
    "print(\"The value of the variable K is\",K)"
   ]
  },
  {
   "cell_type": "markdown",
   "id": "10a43cb7",
   "metadata": {},
   "source": [
    "## Sequences "
   ]
  },
  {
   "cell_type": "code",
   "execution_count": 30,
   "id": "5e8712eb",
   "metadata": {},
   "outputs": [
    {
     "name": "stdout",
     "output_type": "stream",
     "text": [
      "This is my 2nd Tutorial in MDS601\n"
     ]
    }
   ],
   "source": [
    "text = \"This is my 2nd Tutorial in MDS601\"\n",
    "\n",
    "print(text)"
   ]
  },
  {
   "cell_type": "code",
   "execution_count": 31,
   "id": "2a156e03",
   "metadata": {},
   "outputs": [
    {
     "name": "stdout",
     "output_type": "stream",
     "text": [
      "33\n"
     ]
    }
   ],
   "source": [
    "print(len(text))"
   ]
  },
  {
   "cell_type": "code",
   "execution_count": 32,
   "id": "5942dfcc",
   "metadata": {},
   "outputs": [
    {
     "name": "stdout",
     "output_type": "stream",
     "text": [
      "i\n"
     ]
    }
   ],
   "source": [
    "print(text[5])"
   ]
  },
  {
   "cell_type": "code",
   "execution_count": 33,
   "id": "194b260c",
   "metadata": {},
   "outputs": [
    {
     "name": "stdout",
     "output_type": "stream",
     "text": [
      "1\n"
     ]
    }
   ],
   "source": [
    "print(text[len(text)-1])"
   ]
  },
  {
   "cell_type": "code",
   "execution_count": 35,
   "id": "15315f1a",
   "metadata": {},
   "outputs": [
    {
     "name": "stdout",
     "output_type": "stream",
     "text": [
      "tHIS IS MY 2ND tUTORIAL IN mds601\n"
     ]
    }
   ],
   "source": [
    "updated_text = text.swapcase()\n",
    "print(updated_text)"
   ]
  },
  {
   "cell_type": "code",
   "execution_count": 141,
   "id": "75861f76",
   "metadata": {},
   "outputs": [
    {
     "name": "stdout",
     "output_type": "stream",
     "text": [
      "Thais Marouelli\n"
     ]
    }
   ],
   "source": [
    "FName = \"Thais\"\n",
    "LName = \"Marouelli\"\n",
    "full_name = FName+' '+LName\n",
    "print(full_name)"
   ]
  },
  {
   "cell_type": "code",
   "execution_count": 142,
   "id": "8bd4ce72",
   "metadata": {
    "scrolled": true
   },
   "outputs": [
    {
     "name": "stdout",
     "output_type": "stream",
     "text": [
      "[15, 67, 34, 45, 94, 27]\n"
     ]
    }
   ],
   "source": [
    "my_list = [15, 67, 34, 45, 94, 27]\n",
    "print(my_list)"
   ]
  },
  {
   "cell_type": "code",
   "execution_count": 143,
   "id": "d0cf2e71",
   "metadata": {},
   "outputs": [
    {
     "name": "stdout",
     "output_type": "stream",
     "text": [
      "[20, 67, 34, 45, 94, 27]\n"
     ]
    }
   ],
   "source": [
    "my_list[0]=20\n",
    "print(my_list)"
   ]
  },
  {
   "cell_type": "code",
   "execution_count": 144,
   "id": "0a7dee1d",
   "metadata": {},
   "outputs": [
    {
     "name": "stdout",
     "output_type": "stream",
     "text": [
      "[20, 67, 34, 45, 94, 87]\n"
     ]
    }
   ],
   "source": [
    "new_value = my_list[0]+my_list[1]\n",
    "\n",
    "my_list[(len(my_list)-1)] = new_value\n",
    "print(my_list)"
   ]
  },
  {
   "cell_type": "code",
   "execution_count": 145,
   "id": "362ed094",
   "metadata": {},
   "outputs": [
    {
     "name": "stdout",
     "output_type": "stream",
     "text": [
      "[20, 67, 34, 45, 94, 87, 66, 14]\n"
     ]
    }
   ],
   "source": [
    "my_list.extend([66,14])\n",
    "print(my_list)"
   ]
  },
  {
   "cell_type": "code",
   "execution_count": 146,
   "id": "e36e8a78",
   "metadata": {},
   "outputs": [
    {
     "name": "stdout",
     "output_type": "stream",
     "text": [
      "[20, 67, 34, -10, 45, 94, 87, 66, 14]\n"
     ]
    }
   ],
   "source": [
    "#3rd index of the list is the index numb 3, if it's 3rd value of the list would be index number 2\n",
    "my_list.insert(3,-10)\n",
    "print(my_list)"
   ]
  },
  {
   "cell_type": "code",
   "execution_count": 147,
   "id": "a1421ad7",
   "metadata": {},
   "outputs": [
    {
     "name": "stdout",
     "output_type": "stream",
     "text": [
      "[-10, 14, 20, 34, 45, 66, 67, 87, 94]\n"
     ]
    }
   ],
   "source": [
    "sorted_list = sorted(my_list)\n",
    "print(sorted_list)"
   ]
  },
  {
   "cell_type": "code",
   "execution_count": 148,
   "id": "4348d0ec",
   "metadata": {},
   "outputs": [
    {
     "name": "stdout",
     "output_type": "stream",
     "text": [
      "[20, 67, 34, -10, 45, 94, 87, 66, 14]\n"
     ]
    }
   ],
   "source": [
    "print(my_list)"
   ]
  },
  {
   "cell_type": "code",
   "execution_count": 149,
   "id": "4fd98597",
   "metadata": {},
   "outputs": [
    {
     "name": "stdout",
     "output_type": "stream",
     "text": [
      "5\n"
     ]
    }
   ],
   "source": [
    "#Tuple\n",
    "\n",
    "my_tuple =(5, 8, 4, 7, 15)\n",
    "\n",
    "print(len(my_tuple))"
   ]
  },
  {
   "cell_type": "code",
   "execution_count": 151,
   "id": "ebaa7e09",
   "metadata": {},
   "outputs": [
    {
     "name": "stdout",
     "output_type": "stream",
     "text": [
      "15\n"
     ]
    }
   ],
   "source": [
    "print(my_tuple[len(my_tuple)-1])"
   ]
  },
  {
   "cell_type": "code",
   "execution_count": 153,
   "id": "1492dd8f",
   "metadata": {},
   "outputs": [
    {
     "ename": "TypeError",
     "evalue": "'tuple' object does not support item assignment",
     "output_type": "error",
     "traceback": [
      "\u001b[1;31m---------------------------------------------------------------------------\u001b[0m",
      "\u001b[1;31mTypeError\u001b[0m                                 Traceback (most recent call last)",
      "Cell \u001b[1;32mIn[153], line 2\u001b[0m\n\u001b[0;32m      1\u001b[0m \u001b[38;5;66;03m#error because we cannot update values of the tuple \u001b[39;00m\n\u001b[1;32m----> 2\u001b[0m my_tuple[\u001b[38;5;241m1\u001b[39m] \u001b[38;5;241m=\u001b[39m \u001b[38;5;241m20\u001b[39m\n",
      "\u001b[1;31mTypeError\u001b[0m: 'tuple' object does not support item assignment"
     ]
    }
   ],
   "source": [
    "#error because we cannot update values of the tuple \n",
    "my_tuple[1] = 20"
   ]
  },
  {
   "cell_type": "code",
   "execution_count": 154,
   "id": "e008ce4d",
   "metadata": {},
   "outputs": [
    {
     "name": "stdout",
     "output_type": "stream",
     "text": [
      "{'Angie': 27, 'Thais': 32, 'Jhon': 28, 'Catarina': 30, 'Marta': 26}\n"
     ]
    }
   ],
   "source": [
    "#Dictionary\n",
    "\n",
    "my_data = {'Angie': 27, 'Thais': 32, 'Jhon': 28, 'Catarina':30, 'Marta': 26}\n",
    "print(my_data)"
   ]
  },
  {
   "cell_type": "code",
   "execution_count": 155,
   "id": "7381fb4d",
   "metadata": {},
   "outputs": [
    {
     "name": "stdout",
     "output_type": "stream",
     "text": [
      "dict_keys(['Angie', 'Thais', 'Jhon', 'Catarina', 'Marta'])\n"
     ]
    }
   ],
   "source": [
    "print(my_data.keys())"
   ]
  },
  {
   "cell_type": "code",
   "execution_count": 156,
   "id": "c19c38f7",
   "metadata": {},
   "outputs": [
    {
     "name": "stdout",
     "output_type": "stream",
     "text": [
      "dict_values([27, 32, 28, 30, 26])\n"
     ]
    }
   ],
   "source": [
    "print(my_data.values())"
   ]
  },
  {
   "cell_type": "code",
   "execution_count": 157,
   "id": "80b5cb2b",
   "metadata": {},
   "outputs": [
    {
     "name": "stdout",
     "output_type": "stream",
     "text": [
      "30\n"
     ]
    }
   ],
   "source": [
    "print(my_data['Catarina'])"
   ]
  },
  {
   "cell_type": "code",
   "execution_count": null,
   "id": "7701a7e4",
   "metadata": {},
   "outputs": [],
   "source": []
  }
 ],
 "metadata": {
  "kernelspec": {
   "display_name": "Python 3 (ipykernel)",
   "language": "python",
   "name": "python3"
  },
  "language_info": {
   "codemirror_mode": {
    "name": "ipython",
    "version": 3
   },
   "file_extension": ".py",
   "mimetype": "text/x-python",
   "name": "python",
   "nbconvert_exporter": "python",
   "pygments_lexer": "ipython3",
   "version": "3.10.9"
  }
 },
 "nbformat": 4,
 "nbformat_minor": 5
}
